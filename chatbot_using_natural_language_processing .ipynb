{
 "cells": [
  {
   "cell_type": "code",
   "execution_count": 1,
   "id": "7da36060",
   "metadata": {},
   "outputs": [
    {
     "name": "stdout",
     "output_type": "stream",
     "text": [
      "BOT : what is you name?\n",
      "test\n"
     ]
    }
   ],
   "source": [
    "print(\"BOT : what is you name?\")\n",
    "user_name = input()"
   ]
  },
  {
   "cell_type": "code",
   "execution_count": 2,
   "id": "3864d2ce",
   "metadata": {},
   "outputs": [],
   "source": [
    "import random \n",
    "name = \"Bot number 286\"\n",
    "monsoon = \"rainy\"\n",
    "mood = \"horny\"\n",
    "resp = {\n",
    "    \"What's your name?\": [\n",
    "        \"They call me {0}\".format(name),\n",
    "        \"I usually go by {0}\".format(name),\n",
    "        \"My name is the {0}\".format(name)],\n",
    "    \"What's today's weather?\":[\n",
    "        \"The weather is {0}\".format(monsoon),\n",
    "        \"It's {0} today\".format(monsoon)],\n",
    "    \"How are you?\":[\n",
    "        \"I'm feeling {0}\".format(mood),\n",
    "        \"{0}! How about you?\".format(mood),\n",
    "        \"I am {0}! How about yourself?\".format(mood),],\n",
    "    \"\":[\n",
    "        \"Hi! Are you there?\",\n",
    "        \"What do you mean by these?\",\n",
    "    ],\n",
    "    \"default\":[\"This is a default message\"]\n",
    "}"
   ]
  },
  {
   "cell_type": "code",
   "execution_count": 3,
   "id": "eaa7692a",
   "metadata": {},
   "outputs": [],
   "source": [
    "def res(message):\n",
    "    if message in resp:\n",
    "        bot_message = random.choice(resp[message])\n",
    "    else:\n",
    "        bot_message = random.choice(resp[\"default\"])\n",
    "    return bot_message"
   ]
  },
  {
   "cell_type": "code",
   "execution_count": 8,
   "id": "75c07e2a",
   "metadata": {},
   "outputs": [],
   "source": [
    "def real(xtext):\n",
    "    if \"name\" in xtext:\n",
    "        ytext = \"What's your name?\"\n",
    "    elif \"monsoon\" in xtext:\n",
    "        ytext = \"What's today's weather?\"\n",
    "    elif \"how are\" in xtext:\n",
    "        ytext = \"how are you?\"\n",
    "    else:\n",
    "        ytext = \"\"\n",
    "    return ytext"
   ]
  },
  {
   "cell_type": "code",
   "execution_count": 9,
   "id": "0400d169",
   "metadata": {},
   "outputs": [],
   "source": [
    "def send_message(message):\n",
    "    print((message))\n",
    "    response = res(message)\n",
    "    print((response))"
   ]
  },
  {
   "cell_type": "code",
   "execution_count": 10,
   "id": "8773a70c",
   "metadata": {
    "scrolled": true
   },
   "outputs": [
    {
     "name": "stdout",
     "output_type": "stream",
     "text": [
      "name\n",
      "What's your name?\n",
      "They call me Bot number 286\n",
      "mood\n",
      "\n",
      "What do you mean by these?\n",
      "mood\n",
      "\n",
      "Hi! Are you there?\n",
      "name\n",
      "What's your name?\n",
      "I usually go by Bot number 286\n",
      "nikhil\n",
      "\n",
      "What do you mean by these?\n",
      "exit\n",
      "\n",
      "Hi! Are you there?\n"
     ]
    }
   ],
   "source": [
    "while 1:\n",
    "    my_input = input()\n",
    "    my_input = my_input.lower()\n",
    "    related_text = real(my_input)\n",
    "    send_message(related_text)\n",
    "    if my_input == \"exit\" or my_input == \"stop\":\n",
    "        break"
   ]
  },
  {
   "cell_type": "code",
   "execution_count": null,
   "id": "c7936168",
   "metadata": {},
   "outputs": [],
   "source": []
  }
 ],
 "metadata": {
  "kernelspec": {
   "display_name": "Python 3 (ipykernel)",
   "language": "python",
   "name": "python3"
  },
  "language_info": {
   "codemirror_mode": {
    "name": "ipython",
    "version": 3
   },
   "file_extension": ".py",
   "mimetype": "text/x-python",
   "name": "python",
   "nbconvert_exporter": "python",
   "pygments_lexer": "ipython3",
   "version": "3.8.10"
  }
 },
 "nbformat": 4,
 "nbformat_minor": 5
}
